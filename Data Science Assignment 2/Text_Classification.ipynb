{
 "cells": [
  {
   "cell_type": "markdown",
   "id": "484ab8c3",
   "metadata": {},
   "source": [
    "# COMP47670 Assignment 2 - Peter Coogan (21202781)"
   ]
  },
  {
   "cell_type": "code",
   "execution_count": 2,
   "id": "75b40b29",
   "metadata": {},
   "outputs": [],
   "source": [
    "import urllib.request\n",
    "import bs4\n",
    "import json"
   ]
  },
  {
   "cell_type": "markdown",
   "id": "bf3b264c",
   "metadata": {},
   "source": [
    "## TASK1: Data Collection"
   ]
  },
  {
   "cell_type": "markdown",
   "id": "d1ba5ad9",
   "metadata": {},
   "source": [
    "### Functions to fetch and parse data"
   ]
  },
  {
   "cell_type": "code",
   "execution_count": 2,
   "id": "2a283651",
   "metadata": {},
   "outputs": [],
   "source": [
    "def generate_url(main_URL, month, page_num):\n",
    "    \"\"\"Generates a url for the month and page number\"\"\"\n",
    "    if page_num < 10:\n",
    "        url = main_URL + \"-\" + month + \"-00\" + str(page_num) + \".html\"\n",
    "    else:\n",
    "        url = main_URL + \"-\" + month + \"-0\" + str(page_num) + \".html\"\n",
    "    return url\n",
    "\n",
    "\n",
    "def read_page(page_url, categories):\n",
    "    \"\"\"Reads a single web page for data\"\"\"\n",
    "    \n",
    "    # handle the request and gather html\n",
    "    response = urllib.request.urlopen(page_url)\n",
    "    html = response.read().decode()\n",
    "    parser = bs4.BeautifulSoup(html, \"html.parser\")\n",
    "    \n",
    "    # find all articles\n",
    "    articles = parser.find_all(\"div\", {\"class\": \"article\"})\n",
    "    \n",
    "    dict_list = []\n",
    "    # loop through the articles\n",
    "    for article in articles:\n",
    "        \n",
    "        # the title of the article is the text in the <a tag\n",
    "        title = (article.find(\"a\").text)\n",
    "        \n",
    "        # the rest of the information is in the <p elements\n",
    "        p_elems = article.find_all(\"p\")\n",
    "        \n",
    "        # extract the category and snippet\n",
    "        category, snippet = p_elems[1].text, p_elems[2].text\n",
    "        \n",
    "        # format the strings a little\n",
    "        category = category.split(\": \")[1] # gets rid of the word 'Category: ' in the string\n",
    "        snippet = (snippet.replace(snippet[-2:], \"\")) # removes the ' ...' at the end of the snipppet\n",
    "        \n",
    "        # if the category is one of the three selected create a dictionary\n",
    "        if category in categories:\n",
    "             \n",
    "            d = {\"Title\": title, \"Category\": category, \"Snippet\": snippet}\n",
    "            dict_list.append(d) # append the dictionary to a list\n",
    "        \n",
    "    return dict_list\n",
    "\n",
    "\n",
    "def read_data(main_URL, months, num_articles_lst, categories):\n",
    "    \"\"\"Reads all the data from the web pages\"\"\"\n",
    "    \n",
    "    data_list = [] # large dictionary to hold all data\n",
    "    \n",
    "    # for each month, get the data\n",
    "    for month, num_articles in zip(months, num_articles_lst):\n",
    "        \n",
    "        # calculate the number of pages of articles for that month\n",
    "        check = num_articles / 50\n",
    "        if check.is_integer(): num_pages = check\n",
    "        else: num_pages = (num_articles // 50) + 1\n",
    "            \n",
    "        # get data for each page\n",
    "        for page_num in range(1, num_pages + 1):\n",
    "            \n",
    "            page_url = generate_url(main_URL, month, page_num) # generate the url\n",
    "            page_dict_list = read_page(page_url, categories) # read the page\n",
    "            \n",
    "            # append data to dictionary with months as keys\n",
    "            for d in page_dict_list:\n",
    "                data_list.append(d)\n",
    "                \n",
    "    return data_list\n",
    "\n",
    "def json_dump(file_name, data):\n",
    "    \"\"\"Format the data as json\"\"\"\n",
    "    with open(file_name, 'w') as fp:\n",
    "        json.dump(data, fp, indent=4)\n",
    "    return"
   ]
  },
  {
   "cell_type": "markdown",
   "id": "0a5c9578",
   "metadata": {},
   "source": [
    "### Collect the data"
   ]
  },
  {
   "cell_type": "code",
   "execution_count": 3,
   "id": "c525a709",
   "metadata": {},
   "outputs": [],
   "source": [
    "months = [\"jan\", \"feb\", \"mar\", \"apr\", \"may\", \"jun\", \"jul\", \"aug\", \"sep\", \"oct\", \"nov\", \"dec\"]\n",
    "num_articles_lst = [1522, 1492, 1395, 1209, 1315, 1376, 1358, 1254, 1347, 1395, 1343, 1220] # number of articles for each month\n",
    "my_categories = [\"US-News\", \"Sport\", \"Music\"] # chosen article categories\n",
    "main_url = \"http://mlg.ucd.ie/modules/COMP41680/assignment2/month\" # general url\n",
    "\n",
    "data_list = read_data(main_url, months, num_articles_lst, my_categories) # list of dictionaries"
   ]
  },
  {
   "cell_type": "code",
   "execution_count": 4,
   "id": "03686f07",
   "metadata": {},
   "outputs": [],
   "source": [
    "json_dump(\"data.json\", data_list) # convert the list of dictionaries to json format"
   ]
  },
  {
   "cell_type": "markdown",
   "id": "9ab2bb62",
   "metadata": {},
   "source": [
    "## TASK2: Binary Text Classification"
   ]
  },
  {
   "cell_type": "code",
   "execution_count": 3,
   "id": "63b01be9",
   "metadata": {},
   "outputs": [],
   "source": [
    "import pandas as pd\n",
    "from sklearn.feature_extraction.text import CountVectorizer, TfidfTransformer, TfidfVectorizer\n",
    "from sklearn.neighbors import KNeighborsClassifier\n",
    "from sklearn.metrics import accuracy_score, confusion_matrix, ConfusionMatrixDisplay, classification_report, precision_score\n",
    "from sklearn.pipeline import Pipeline\n",
    "import matplotlib.pyplot as plt\n",
    "%matplotlib inline"
   ]
  },
  {
   "cell_type": "markdown",
   "id": "a8550843",
   "metadata": {},
   "source": [
    "### Functions to read the data and store it in a Pandas DataFrame"
   ]
  },
  {
   "cell_type": "code",
   "execution_count": 4,
   "id": "0034ed17",
   "metadata": {},
   "outputs": [],
   "source": [
    "def read_json(file_name):\n",
    "    \"\"\"Read the json data\"\"\"\n",
    "    with open(file_name) as fp:\n",
    "        data = json.load(fp)\n",
    "        \n",
    "    return data\n",
    "\n",
    "def generate_df(data_file):\n",
    "    \"\"\"Create a dataframe using the data\"\"\"\n",
    "    raw_json = read_json(data_file) # read the data\n",
    "    strings = []\n",
    "    categories = []\n",
    "    identifiers = []\n",
    "    for article in raw_json:\n",
    "        \n",
    "        # concatenate the title and the snippet\n",
    "        concatenated_str = article[\"Title\"] + \" \" + article[\"Snippet\"]\n",
    "        strings.append(concatenated_str)\n",
    "        \n",
    "        category = article[\"Category\"]\n",
    "        categories.append(category)\n",
    "        \n",
    "        # assign an id to each category (might be used)\n",
    "        if category == \"Music\":\n",
    "            identifier = 0\n",
    "        elif category == \"US-News\":\n",
    "            identifier = 1\n",
    "        else:\n",
    "            identifier = 2\n",
    "        identifiers.append(identifier)\n",
    "    \n",
    "    df = pd.DataFrame(data=[categories, strings, identifiers]).T\n",
    "    df.columns = [\"Category\", \"Title + Snippet\", \"id\"]\n",
    "    \n",
    "    return df"
   ]
  },
  {
   "cell_type": "code",
   "execution_count": 5,
   "id": "e12cb566",
   "metadata": {},
   "outputs": [
    {
     "data": {
      "text/html": [
       "<div>\n",
       "<style scoped>\n",
       "    .dataframe tbody tr th:only-of-type {\n",
       "        vertical-align: middle;\n",
       "    }\n",
       "\n",
       "    .dataframe tbody tr th {\n",
       "        vertical-align: top;\n",
       "    }\n",
       "\n",
       "    .dataframe thead th {\n",
       "        text-align: right;\n",
       "    }\n",
       "</style>\n",
       "<table border=\"1\" class=\"dataframe\">\n",
       "  <thead>\n",
       "    <tr style=\"text-align: right;\">\n",
       "      <th></th>\n",
       "      <th>Category</th>\n",
       "      <th>Title + Snippet</th>\n",
       "      <th>id</th>\n",
       "    </tr>\n",
       "  </thead>\n",
       "  <tbody>\n",
       "    <tr>\n",
       "      <th>0</th>\n",
       "      <td>Music</td>\n",
       "      <td>Mariah Carey's Twitter account hacked on New Y...</td>\n",
       "      <td>0</td>\n",
       "    </tr>\n",
       "    <tr>\n",
       "      <th>1</th>\n",
       "      <td>US-News</td>\n",
       "      <td>The final sprint: will any of the Democratic c...</td>\n",
       "      <td>1</td>\n",
       "    </tr>\n",
       "    <tr>\n",
       "      <th>2</th>\n",
       "      <td>Sport</td>\n",
       "      <td>Twenty athletes set to light up the Tokyo 2020...</td>\n",
       "      <td>2</td>\n",
       "    </tr>\n",
       "    <tr>\n",
       "      <th>3</th>\n",
       "      <td>Sport</td>\n",
       "      <td>Michael van Gerwen 3-7 Peter Wright: PDC world...</td>\n",
       "      <td>2</td>\n",
       "    </tr>\n",
       "    <tr>\n",
       "      <th>4</th>\n",
       "      <td>Music</td>\n",
       "      <td>Woodford folk festival review – a much-needed ...</td>\n",
       "      <td>0</td>\n",
       "    </tr>\n",
       "    <tr>\n",
       "      <th>...</th>\n",
       "      <td>...</td>\n",
       "      <td>...</td>\n",
       "      <td>...</td>\n",
       "    </tr>\n",
       "    <tr>\n",
       "      <th>5426</th>\n",
       "      <td>US-News</td>\n",
       "      <td>Joe Biden to have new Secret Service team amid...</td>\n",
       "      <td>1</td>\n",
       "    </tr>\n",
       "    <tr>\n",
       "      <th>5427</th>\n",
       "      <td>US-News</td>\n",
       "      <td>Joe Biden to hold national memorial service fo...</td>\n",
       "      <td>1</td>\n",
       "    </tr>\n",
       "    <tr>\n",
       "      <th>5428</th>\n",
       "      <td>Sport</td>\n",
       "      <td>Chess: Magnus Carlsen 'in a deep funk' after l...</td>\n",
       "      <td>2</td>\n",
       "    </tr>\n",
       "    <tr>\n",
       "      <th>5429</th>\n",
       "      <td>Sport</td>\n",
       "      <td>Toby Flood leading Newcastle revival in Jonny ...</td>\n",
       "      <td>2</td>\n",
       "    </tr>\n",
       "    <tr>\n",
       "      <th>5430</th>\n",
       "      <td>Music</td>\n",
       "      <td>MF Doom, iconic masked hip-hop MC, dies aged 4...</td>\n",
       "      <td>0</td>\n",
       "    </tr>\n",
       "  </tbody>\n",
       "</table>\n",
       "<p>5431 rows × 3 columns</p>\n",
       "</div>"
      ],
      "text/plain": [
       "     Category                                    Title + Snippet id\n",
       "0       Music  Mariah Carey's Twitter account hacked on New Y...  0\n",
       "1     US-News  The final sprint: will any of the Democratic c...  1\n",
       "2       Sport  Twenty athletes set to light up the Tokyo 2020...  2\n",
       "3       Sport  Michael van Gerwen 3-7 Peter Wright: PDC world...  2\n",
       "4       Music  Woodford folk festival review – a much-needed ...  0\n",
       "...       ...                                                ... ..\n",
       "5426  US-News  Joe Biden to have new Secret Service team amid...  1\n",
       "5427  US-News  Joe Biden to hold national memorial service fo...  1\n",
       "5428    Sport  Chess: Magnus Carlsen 'in a deep funk' after l...  2\n",
       "5429    Sport  Toby Flood leading Newcastle revival in Jonny ...  2\n",
       "5430    Music  MF Doom, iconic masked hip-hop MC, dies aged 4...  0\n",
       "\n",
       "[5431 rows x 3 columns]"
      ]
     },
     "execution_count": 5,
     "metadata": {},
     "output_type": "execute_result"
    }
   ],
   "source": [
    "data_df = generate_df(\"data.json\")\n",
    "data_df"
   ]
  },
  {
   "cell_type": "markdown",
   "id": "5b7dde6b",
   "metadata": {},
   "source": [
    "The data is now in a Pandas DataFrame with identifier labels which will act as training and test targets"
   ]
  },
  {
   "cell_type": "markdown",
   "id": "d0b94fcc",
   "metadata": {},
   "source": [
    "### Functions to filter the data, allocated train and test data and evaluate prediction accuracy"
   ]
  },
  {
   "cell_type": "code",
   "execution_count": 11,
   "id": "24efc42e",
   "metadata": {},
   "outputs": [],
   "source": [
    "def filter_df(remove_category, df):\n",
    "    \"\"\"Filter a dataframe by removing a category\"\"\"\n",
    "    filtered_df = df.drop(df[df.Category == remove_category].index)\n",
    "    return filtered_df\n",
    "\n",
    "def train_and_test_data(remove_category, data_df, frac):\n",
    "    \"\"\"generate training and test data from a filtered dataframe\"\"\"\n",
    "    # filter the dataframe to the two categories selected\n",
    "    filtered_df = filter_df(remove_category, data_df)\n",
    "    # select a random 75% as the training data\n",
    "    train_data_df = filtered_df.sample(frac=frac)\n",
    "    train_docs = list(train_data_df[\"Title + Snippet\"])\n",
    "    train_target = list(train_data_df[\"id\"])\n",
    "    # select the other 25% as the test data\n",
    "    test_data_df = filtered_df.drop(train_data_df.index)\n",
    "    test_docs = list(test_data_df[\"Title + Snippet\"])\n",
    "    test_target = list(test_data_df[\"id\"])\n",
    "    # select the category names\n",
    "    categories = list(filtered_df[\"Category\"].unique())\n",
    "    \n",
    "    return (train_docs, train_target, test_docs, test_target, categories)\n",
    "    \n",
    "    \n",
    "def train_and_test_model_accuracy(pipeline, train_docs, train_target, test_docs, test_target, categories):\n",
    "    \"\"\"Fit a model using a pipeline and print the accuracy\"\"\"\n",
    "    pipeline.fit(train_docs, train_target)\n",
    "    predicted = pipeline.predict(test_docs)\n",
    "    print(f\"Classifier accuracy for categories {categories} = {accuracy_score(test_target, predicted):.4f}\")\n",
    "    return test_target, predicted, categories\n",
    "\n",
    "def confusion_matrix_plot(test_target, predicted, categories):\n",
    "    \"\"\"Plot the confusion matrix for a prediction\"\"\"\n",
    "    cm = confusion_matrix(test_target, predicted)\n",
    "    cmd = ConfusionMatrixDisplay(cm, display_labels=categories)\n",
    "    cmd.plot()\n",
    "    return"
   ]
  },
  {
   "cell_type": "markdown",
   "id": "16ccec99",
   "metadata": {},
   "source": [
    "The data can now be filtered depending on the set of categories of interest. An example of a filtered dataframe is shown below"
   ]
  },
  {
   "cell_type": "code",
   "execution_count": 44,
   "id": "e6f3e095",
   "metadata": {},
   "outputs": [
    {
     "data": {
      "text/html": [
       "<div>\n",
       "<style scoped>\n",
       "    .dataframe tbody tr th:only-of-type {\n",
       "        vertical-align: middle;\n",
       "    }\n",
       "\n",
       "    .dataframe tbody tr th {\n",
       "        vertical-align: top;\n",
       "    }\n",
       "\n",
       "    .dataframe thead th {\n",
       "        text-align: right;\n",
       "    }\n",
       "</style>\n",
       "<table border=\"1\" class=\"dataframe\">\n",
       "  <thead>\n",
       "    <tr style=\"text-align: right;\">\n",
       "      <th></th>\n",
       "      <th>Category</th>\n",
       "      <th>Title + Snippet</th>\n",
       "      <th>id</th>\n",
       "    </tr>\n",
       "  </thead>\n",
       "  <tbody>\n",
       "    <tr>\n",
       "      <th>0</th>\n",
       "      <td>Music</td>\n",
       "      <td>Mariah Carey's Twitter account hacked on New Y...</td>\n",
       "      <td>0</td>\n",
       "    </tr>\n",
       "    <tr>\n",
       "      <th>1</th>\n",
       "      <td>US-News</td>\n",
       "      <td>The final sprint: will any of the Democratic c...</td>\n",
       "      <td>1</td>\n",
       "    </tr>\n",
       "    <tr>\n",
       "      <th>4</th>\n",
       "      <td>Music</td>\n",
       "      <td>Woodford folk festival review – a much-needed ...</td>\n",
       "      <td>0</td>\n",
       "    </tr>\n",
       "    <tr>\n",
       "      <th>5</th>\n",
       "      <td>Music</td>\n",
       "      <td>Tara Erraught/James Baillieu review – quietly ...</td>\n",
       "      <td>0</td>\n",
       "    </tr>\n",
       "    <tr>\n",
       "      <th>10</th>\n",
       "      <td>US-News</td>\n",
       "      <td>Detroit firefighters face backlash over photo ...</td>\n",
       "      <td>1</td>\n",
       "    </tr>\n",
       "    <tr>\n",
       "      <th>...</th>\n",
       "      <td>...</td>\n",
       "      <td>...</td>\n",
       "      <td>...</td>\n",
       "    </tr>\n",
       "    <tr>\n",
       "      <th>5424</th>\n",
       "      <td>US-News</td>\n",
       "      <td>What happened when California tried to fix its...</td>\n",
       "      <td>1</td>\n",
       "    </tr>\n",
       "    <tr>\n",
       "      <th>5425</th>\n",
       "      <td>US-News</td>\n",
       "      <td>First Thing: McConnell thwarts hopes of higher...</td>\n",
       "      <td>1</td>\n",
       "    </tr>\n",
       "    <tr>\n",
       "      <th>5426</th>\n",
       "      <td>US-News</td>\n",
       "      <td>Joe Biden to have new Secret Service team amid...</td>\n",
       "      <td>1</td>\n",
       "    </tr>\n",
       "    <tr>\n",
       "      <th>5427</th>\n",
       "      <td>US-News</td>\n",
       "      <td>Joe Biden to hold national memorial service fo...</td>\n",
       "      <td>1</td>\n",
       "    </tr>\n",
       "    <tr>\n",
       "      <th>5430</th>\n",
       "      <td>Music</td>\n",
       "      <td>MF Doom, iconic masked hip-hop MC, dies aged 4...</td>\n",
       "      <td>0</td>\n",
       "    </tr>\n",
       "  </tbody>\n",
       "</table>\n",
       "<p>3612 rows × 3 columns</p>\n",
       "</div>"
      ],
      "text/plain": [
       "     Category                                    Title + Snippet id\n",
       "0       Music  Mariah Carey's Twitter account hacked on New Y...  0\n",
       "1     US-News  The final sprint: will any of the Democratic c...  1\n",
       "4       Music  Woodford folk festival review – a much-needed ...  0\n",
       "5       Music  Tara Erraught/James Baillieu review – quietly ...  0\n",
       "10    US-News  Detroit firefighters face backlash over photo ...  1\n",
       "...       ...                                                ... ..\n",
       "5424  US-News  What happened when California tried to fix its...  1\n",
       "5425  US-News  First Thing: McConnell thwarts hopes of higher...  1\n",
       "5426  US-News  Joe Biden to have new Secret Service team amid...  1\n",
       "5427  US-News  Joe Biden to hold national memorial service fo...  1\n",
       "5430    Music  MF Doom, iconic masked hip-hop MC, dies aged 4...  0\n",
       "\n",
       "[3612 rows x 3 columns]"
      ]
     },
     "execution_count": 44,
     "metadata": {},
     "output_type": "execute_result"
    }
   ],
   "source": [
    "filtered = filter_df(\"Sport\", data_df)\n",
    "filtered"
   ]
  },
  {
   "cell_type": "markdown",
   "id": "3347f34b",
   "metadata": {},
   "source": [
    "### Generate training and test data for each of the category pairs\n",
    "\n",
    "In this case, 75% of the data will be used from training and the other 25% will make up the test data."
   ]
  },
  {
   "cell_type": "code",
   "execution_count": 45,
   "id": "6b6d0d33",
   "metadata": {},
   "outputs": [],
   "source": [
    "train_and_test_music_and_news = train_and_test_data(\"Sport\", data_df, frac=0.75) # music and news\n",
    "train_and_test_music_and_sport = train_and_test_data(\"US-News\", data_df, frac=0.75) # music and sport\n",
    "train_and_test_news_and_sport = train_and_test_data(\"Music\", data_df, frac=0.75) # news and sport"
   ]
  },
  {
   "cell_type": "markdown",
   "id": "d6f75b89",
   "metadata": {},
   "source": [
    "### Use a classification pipeline to streamline the process\n",
    "\n",
    "Pipelines are useful in this case since they allow for the same set of actions to be applied to multiple sets of data.  \n",
    "- Here we use built-in stop-words and filter out terms appearing in less than 5 documents\n",
    "- We then transform this count matrix into a weighted matrix with TfidfTransformer\n",
    "- Finally comes the classification step with the KNN classifier\n"
   ]
  },
  {
   "cell_type": "code",
   "execution_count": 6,
   "id": "2ebb40d2",
   "metadata": {},
   "outputs": [],
   "source": [
    "pipeline1 = Pipeline([\n",
    "    ('vec', CountVectorizer(stop_words=\"english\", min_df=5)),\n",
    "    ('tfidf', TfidfTransformer()),\n",
    "    ('clf', KNeighborsClassifier(n_neighbors=3))\n",
    "    \n",
    "])"
   ]
  },
  {
   "cell_type": "markdown",
   "id": "1077b734",
   "metadata": {},
   "source": [
    "### Train the models, make predictions, display accuracy and plot confusion matrices for each pair"
   ]
  },
  {
   "cell_type": "code",
   "execution_count": 46,
   "id": "144cd9ca",
   "metadata": {},
   "outputs": [
    {
     "name": "stdout",
     "output_type": "stream",
     "text": [
      "Classifier accuracy for categories ['Music', 'US-News'] = 0.9236\n"
     ]
    },
    {
     "data": {
      "image/png": "[encoded data removed]",
      "text/plain": [
       "<Figure size 432x288 with 2 Axes>"
      ]
     },
     "metadata": {
      "needs_background": "light"
     },
     "output_type": "display_data"
    }
   ],
   "source": [
    "mn_test_target, mn_predicted, mn_cat = train_and_test_model_accuracy(pipeline1, *train_and_test_music_and_news)\n",
    "confusion_matrix_plot(mn_test_target, mn_predicted, mn_cat)"
   ]
  },
  {
   "cell_type": "code",
   "execution_count": 47,
   "id": "b3cdb43c",
   "metadata": {},
   "outputs": [
    {
     "name": "stdout",
     "output_type": "stream",
     "text": [
      "Classifier accuracy for categories ['Music', 'Sport'] = 0.8993\n"
     ]
    },
    {
     "data": {
      "image/png": "[encoded data removed]",
      "text/plain": [
       "<Figure size 432x288 with 2 Axes>"
      ]
     },
     "metadata": {
      "needs_background": "light"
     },
     "output_type": "display_data"
    }
   ],
   "source": [
    "ms_test_target, ms_predicted, ms_cat = train_and_test_model_accuracy(pipeline1, *train_and_test_music_and_sport)\n",
    "confusion_matrix_plot(ms_test_target, ms_predicted, ms_cat)"
   ]
  },
  {
   "cell_type": "code",
   "execution_count": 48,
   "id": "9f4a9c1d",
   "metadata": {},
   "outputs": [
    {
     "name": "stdout",
     "output_type": "stream",
     "text": [
      "Classifier accuracy for categories ['US-News', 'Sport'] = 0.9306\n"
     ]
    },
    {
     "data": {
      "image/png": "[encoded data removed]",
      "text/plain": [
       "<Figure size 432x288 with 2 Axes>"
      ]
     },
     "metadata": {
      "needs_background": "light"
     },
     "output_type": "display_data"
    }
   ],
   "source": [
    "ns_test_target, ns_predicted, ns_cat = train_and_test_model_accuracy(pipeline1, *train_and_test_news_and_sport)\n",
    "confusion_matrix_plot(ns_test_target, ns_predicted, ns_cat)"
   ]
  },
  {
   "cell_type": "markdown",
   "id": "f53295ef",
   "metadata": {},
   "source": [
    "For the three cases above we have used 75% of the documents for training and 25% for testing. We have also implemented a KNN classifier with N=3. This has shown accuracies around 90% in all cases. The confusion matrices then show the numbers of correctly and incorrectly predicted labels for each category pair. The comparison of US-News and Sport seems to give a narrowly higher accuracy than the other two while the opposite is true for the Music and Sport comparison."
   ]
  },
  {
   "cell_type": "markdown",
   "id": "4e2b0688",
   "metadata": {},
   "source": [
    "### Test out a different classifier\n",
    "\n",
    "In this pipeline, a linear Support Vector Machine (SVN) classifier is used."
   ]
  },
  {
   "cell_type": "code",
   "execution_count": 18,
   "id": "5c4932d9",
   "metadata": {},
   "outputs": [],
   "source": [
    "from sklearn.linear_model import SGDClassifier\n",
    "pipeline2 = Pipeline([\n",
    "    ('vec', CountVectorizer(stop_words=\"english\", min_df=5)),\n",
    "    ('tfidf', TfidfTransformer()),\n",
    "    ('clf', SGDClassifier())\n",
    "    \n",
    "])"
   ]
  },
  {
   "cell_type": "code",
   "execution_count": 49,
   "id": "d722200b",
   "metadata": {},
   "outputs": [
    {
     "name": "stdout",
     "output_type": "stream",
     "text": [
      "Classifier accuracy for categories ['Music', 'US-News'] = 0.9513\n"
     ]
    },
    {
     "data": {
      "image/png": "[encoded data removed]",
      "text/plain": [
       "<Figure size 432x288 with 2 Axes>"
      ]
     },
     "metadata": {
      "needs_background": "light"
     },
     "output_type": "display_data"
    }
   ],
   "source": [
    "mn_test_target_sgd, mn_predicted_sgd, mn_cat_sgd = train_and_test_model_accuracy(pipeline2, *train_and_test_music_and_news)\n",
    "confusion_matrix_plot(mn_test_target_sgd, mn_predicted_sgd, mn_cat_sgd)"
   ]
  },
  {
   "cell_type": "code",
   "execution_count": 50,
   "id": "27329b56",
   "metadata": {},
   "outputs": [
    {
     "name": "stdout",
     "output_type": "stream",
     "text": [
      "Classifier accuracy for categories ['Music', 'Sport'] = 0.9569\n"
     ]
    },
    {
     "data": {
      "image/png": "[encoded data removed]",
      "text/plain": [
       "<Figure size 432x288 with 2 Axes>"
      ]
     },
     "metadata": {
      "needs_background": "light"
     },
     "output_type": "display_data"
    }
   ],
   "source": [
    "ms_test_target_sgd, ms_predicted_sgd, ms_cat_sgd = train_and_test_model_accuracy(pipeline2, *train_and_test_music_and_sport)\n",
    "confusion_matrix_plot(ms_test_target_sgd, ms_predicted_sgd, ms_cat_sgd)"
   ]
  },
  {
   "cell_type": "code",
   "execution_count": 51,
   "id": "cdc6ce36",
   "metadata": {},
   "outputs": [
    {
     "name": "stdout",
     "output_type": "stream",
     "text": [
      "Classifier accuracy for categories ['US-News', 'Sport'] = 0.9615\n"
     ]
    },
    {
     "data": {
      "image/png": "[encoded data removed]",
      "text/plain": [
       "<Figure size 432x288 with 2 Axes>"
      ]
     },
     "metadata": {
      "needs_background": "light"
     },
     "output_type": "display_data"
    }
   ],
   "source": [
    "ns_test_target_sgd, ns_predicted_sgd, ns_cat_sgd = train_and_test_model_accuracy(pipeline2, *train_and_test_news_and_sport)\n",
    "confusion_matrix_plot(ns_test_target_sgd, ns_predicted_sgd, ns_cat_sgd)"
   ]
  },
  {
   "cell_type": "markdown",
   "id": "97d74fbc",
   "metadata": {},
   "source": [
    "As can be seen from the above data, the SGD classifier does better at predicting the category and each of the binary comparisons results in an accuracy of around 95%."
   ]
  },
  {
   "cell_type": "markdown",
   "id": "e537911e",
   "metadata": {},
   "source": [
    "### Investigate the effect of changing the percentage of training data\n",
    "\n",
    "In this investigation, a number of different cases of training data fraction are tested and the accuracy scores when using the reamining test data are given for a KNN classifier with N=3."
   ]
  },
  {
   "cell_type": "code",
   "execution_count": 58,
   "id": "75c43595",
   "metadata": {},
   "outputs": [
    {
     "name": "stdout",
     "output_type": "stream",
     "text": [
      "Classifier accuracy for categories ['Music', 'US-News'] = 0.7318\n",
      "Classifier accuracy for categories ['Music', 'Sport'] = 0.8387\n",
      "Classifier accuracy for categories ['US-News', 'Sport'] = 0.8670\n",
      "Classifier accuracy for categories ['Music', 'US-News'] = 0.8931\n",
      "Classifier accuracy for categories ['Music', 'Sport'] = 0.8624\n",
      "Classifier accuracy for categories ['US-News', 'Sport'] = 0.8940\n",
      "Classifier accuracy for categories ['Music', 'US-News'] = 0.8979\n",
      "Classifier accuracy for categories ['Music', 'Sport'] = 0.8771\n",
      "Classifier accuracy for categories ['US-News', 'Sport'] = 0.9143\n",
      "Classifier accuracy for categories ['Music', 'US-News'] = 0.9081\n",
      "Classifier accuracy for categories ['Music', 'Sport'] = 0.8899\n",
      "Classifier accuracy for categories ['US-News', 'Sport'] = 0.9301\n",
      "Classifier accuracy for categories ['Music', 'US-News'] = 0.8927\n",
      "Classifier accuracy for categories ['Music', 'Sport'] = 0.9004\n",
      "Classifier accuracy for categories ['US-News', 'Sport'] = 0.9133\n",
      "Classifier accuracy for categories ['Music', 'US-News'] = 0.9059\n",
      "Classifier accuracy for categories ['Music', 'Sport'] = 0.8811\n",
      "Classifier accuracy for categories ['US-News', 'Sport'] = 0.9339\n",
      "Classifier accuracy for categories ['Music', 'US-News'] = 0.9197\n",
      "Classifier accuracy for categories ['Music', 'Sport'] = 0.8963\n",
      "Classifier accuracy for categories ['US-News', 'Sport'] = 0.9422\n",
      "Classifier accuracy for categories ['Music', 'US-News'] = 0.9280\n",
      "Classifier accuracy for categories ['Music', 'Sport'] = 0.8923\n",
      "Classifier accuracy for categories ['US-News', 'Sport'] = 0.9477\n"
     ]
    },
    {
     "data": {
      "text/plain": [
       "<matplotlib.legend.Legend at 0x214fc8426a0>"
      ]
     },
     "execution_count": 58,
     "metadata": {},
     "output_type": "execute_result"
    },
    {
     "data": {
      "image/png": "[encoded data removed]",
      "text/plain": [
       "<Figure size 432x288 with 1 Axes>"
      ]
     },
     "metadata": {
      "needs_background": "light"
     },
     "output_type": "display_data"
    }
   ],
   "source": [
    "training_fracs = [0.1, 0.2, 0.3, 0.5, 0.6, 0.7, 0.8, 0.9] # fractions of training data\n",
    "\n",
    "accuracys_mn = []\n",
    "accuracys_ms = []\n",
    "accuracys_ns = []\n",
    "\n",
    "# run the pipeline for different fractions of training and test data\n",
    "for frac in training_fracs:\n",
    "    \n",
    "    music_and_news_tt = train_and_test_data(\"Sport\", data_df, frac=frac) # music and news\n",
    "    target_mn, predicted_mn, _ = train_and_test_model_accuracy(pipeline1, *music_and_news_tt)\n",
    "    accuracy_mn = accuracy_score(target_mn, predicted_mn)\n",
    "    accuracys_mn.append(accuracy_mn)\n",
    "    \n",
    "    music_and_sport_tt = train_and_test_data(\"US-News\", data_df, frac=frac) # music and sport\n",
    "    target_ms, predicted_ms, _ = train_and_test_model_accuracy(pipeline1, *music_and_sport_tt)\n",
    "    accuracy_ms = accuracy_score(target_ms, predicted_ms)\n",
    "    accuracys_ms.append(accuracy_ms)\n",
    "    \n",
    "    news_and_sport_tt = train_and_test_data(\"Music\", data_df, frac=frac) # news and sport\n",
    "    target_ns, predicted_ns, _ = train_and_test_model_accuracy(pipeline1, *news_and_sport_tt)\n",
    "    accuracy_ns = accuracy_score(target_ns, predicted_ns)\n",
    "    accuracys_ns.append(accuracy_ns)\n",
    "\n",
    "# make the plot\n",
    "acc_fig, acc_ax = plt.subplots()\n",
    "\n",
    "acc_ax.set_title(\"Accuracys of KNN Classifier for range of training data fractions\")\n",
    "acc_ax.set_xlabel(\"Training Data fraction\")\n",
    "acc_ax.set_ylabel(\"Accuracy Score\")\n",
    "\n",
    "acc_ax.scatter(training_fracs, accuracys_mn, marker='+', label=\"Music and US-News\")\n",
    "acc_ax.scatter(training_fracs, accuracys_ms, marker='+', label=\"Music and Sport\")\n",
    "acc_ax.scatter(training_fracs, accuracys_ns, marker='+', label=\"US-News and Sport\")\n",
    "\n",
    "acc_ax.legend()"
   ]
  },
  {
   "cell_type": "markdown",
   "id": "9180f169",
   "metadata": {},
   "source": [
    "This plot shows that the larger then training data set, the more accurate the predictions are. This plot also indicates the trend that us-news and sport are easiest for the model to distinguish and music and sport are the most difficult to distinguish."
   ]
  },
  {
   "cell_type": "markdown",
   "id": "42c8d1bf",
   "metadata": {},
   "source": [
    "## TASK3: Multi-class Text Classification\n",
    "\n",
    "The methods used for the binary classification task can  be very easily extended to the multi-class case. We do not need to write much more code in terms of data processing since we are just applying the same classification steps to the entire set of data instead of 2/3rds of it."
   ]
  },
  {
   "cell_type": "markdown",
   "id": "0327f24b",
   "metadata": {},
   "source": [
    "### Function to generate train and test data\n",
    "\n",
    "The accuracy, prediction and confusion matrix functions defined above for the binary case will be reused."
   ]
  },
  {
   "cell_type": "code",
   "execution_count": 7,
   "id": "79fc6738",
   "metadata": {},
   "outputs": [],
   "source": [
    "def train_and_test_data_multi(data_df, frac):\n",
    "    \"\"\"generate training and test data from a dataframe\"\"\"\n",
    "    # select a random 75% as the training data\n",
    "    train_data_df = data_df.sample(frac=frac)\n",
    "    train_docs = list(train_data_df[\"Title + Snippet\"])\n",
    "    train_target = list(train_data_df[\"id\"])\n",
    "    # select the other 25% as the test data\n",
    "    test_data_df = data_df.drop(train_data_df.index)\n",
    "    test_docs = list(test_data_df[\"Title + Snippet\"])\n",
    "    test_target = list(test_data_df[\"id\"])\n",
    "    # select the category names\n",
    "    categories = list(data_df[\"Category\"].unique())\n",
    "    \n",
    "    return (train_docs, train_target, test_docs, test_target, categories)"
   ]
  },
  {
   "cell_type": "markdown",
   "id": "5bb1fdd8",
   "metadata": {},
   "source": [
    "### Generate the training and test data and targets"
   ]
  },
  {
   "cell_type": "code",
   "execution_count": 8,
   "id": "0cbfc723",
   "metadata": {},
   "outputs": [],
   "source": [
    "train_and_test = train_and_test_data_multi(data_df, frac=0.75)"
   ]
  },
  {
   "cell_type": "markdown",
   "id": "ec2f0aa5",
   "metadata": {},
   "source": [
    "### Define a pipeline"
   ]
  },
  {
   "cell_type": "code",
   "execution_count": 20,
   "id": "8de4b1ed",
   "metadata": {},
   "outputs": [],
   "source": [
    "pipeline_multi = Pipeline([\n",
    "    ('vec', CountVectorizer(stop_words=\"english\", min_df=5)),\n",
    "    ('tfidf', TfidfTransformer()),\n",
    "    ('clf', KNeighborsClassifier(n_neighbors=7))\n",
    "    \n",
    "])"
   ]
  },
  {
   "cell_type": "markdown",
   "id": "610fd6ed",
   "metadata": {},
   "source": [
    "### Train, test and evaluate"
   ]
  },
  {
   "cell_type": "code",
   "execution_count": 21,
   "id": "4cc59d10",
   "metadata": {},
   "outputs": [
    {
     "name": "stdout",
     "output_type": "stream",
     "text": [
      "Classifier accuracy for categories ['Music', 'US-News', 'Sport'] = 0.8822\n",
      "Precision Scores:\n",
      "Music: 0.8454545454545455\n",
      "US-News: 0.8719512195121951\n",
      "Sport: 0.931924882629108\n"
     ]
    },
    {
     "data": {
      "image/png": "[encoded data removed]",
      "text/plain": [
       "<Figure size 432x288 with 2 Axes>"
      ]
     },
     "metadata": {
      "needs_background": "light"
     },
     "output_type": "display_data"
    }
   ],
   "source": [
    "test_target_multi, predicted_multi, categories_multi = train_and_test_model_accuracy(pipeline_multi, *train_and_test)\n",
    "confusion_matrix_plot(test_target_multi, predicted_multi, categories_multi)\n",
    "precision_scores = precision_score(test_target_multi, predicted_multi, average=None)\n",
    "\n",
    "print(f\"Precision Scores:\")\n",
    "for i, score in enumerate(precision_scores):\n",
    "    print(f\"{categories_multi[i]}: {score}\")"
   ]
  },
  {
   "cell_type": "markdown",
   "id": "f175aae5",
   "metadata": {},
   "source": [
    "We can see that a KNN model with N=7 gives an accuracy of around 88% although this will vary slightly depending on the random selection of training and test data. We can see from the precision scores that the classifier performes best when classifying sport and worst when classifying music.  \n",
    "The confusuion matrix shows that when US-News is incorrectly predicted, the label given is mostly Music. In the cases of incorrect predictions for Sport and Music, the incorrect predictions are approximately evenly split between the other two labels."
   ]
  }
 ],
 "metadata": {
  "kernelspec": {
   "display_name": "Python 3",
   "language": "python",
   "name": "python3"
  },
  "language_info": {
   "codemirror_mode": {
    "name": "ipython",
    "version": 3
   },
   "file_extension": ".py",
   "mimetype": "text/x-python",
   "name": "python",
   "nbconvert_exporter": "python",
   "pygments_lexer": "ipython3",
   "version": "3.8.8"
  }
 },
 "nbformat": 4,
 "nbformat_minor": 5
}
